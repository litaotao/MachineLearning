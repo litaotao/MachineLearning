{
 "cells": [
  {
   "cell_type": "markdown",
   "metadata": {},
   "source": [
    "# 第2章 k-近邻算法\n",
    "\n",
    "\n",
    "## KNN 概述\n",
    "\n",
    "`k-近邻（kNN, k-NearestNeighbor）算法主要是用来进行分类的.`\n",
    "\n",
    "## KNN 场景\n",
    "\n",
    "电影可以按照题材分类，那么如何区分 `动作片` 和 `爱情片` 呢？<br/>\n",
    "1. 动作片：打斗次数更多\n",
    "2. 爱情片：亲吻次数更多\n",
    "\n",
    "基于电影中的亲吻、打斗出现的次数，使用 k-近邻算法构造程序，就可以自动划分电影的题材类型。\n",
    "\n",
    "![电影视频案例](../../../images/2.KNN/knn-1-movie.png \"电影视频案例\")\n",
    "\n",
    "```\n",
    "现在根据上面我们得到的样本集中所有电影与未知电影的距离，按照距离递增排序，可以找到 k 个距离最近的电影。\n",
    "假定 k=3，则三个最靠近的电影依次是， He's Not Really into Dudes 、 Beautiful Woman 和 California Man。\n",
    "knn 算法按照距离最近的三部电影的类型，决定未知电影的类型，而这三部电影全是爱情片，因此我们判定未知电影是爱情片。\n",
    "```\n",
    "\n",
    "## KNN 原理\n",
    "\n",
    "> KNN 工作原理\n",
    "\n",
    "1. 假设有一个带有标签的样本数据集（训练样本集），其中包含每条数据与所属分类的对应关系。\n",
    "2. 输入没有标签的新数据后，将新数据的每个特征与样本集中数据对应的特征进行比较。\n",
    "    1. 计算新数据与样本数据集中每条数据的距离。\n",
    "    2. 对求得的所有距离进行排序（从小到大，越小表示越相似）。\n",
    "    3. 取前 k （k 一般小于等于 20 ）个样本数据对应的分类标签。\n",
    "3. 求 k 个数据中出现次数最多的分类标签作为新数据的分类。\n",
    "\n",
    "> KNN 开发流程\n",
    "\n",
    "```\n",
    "收集数据：任何方法\n",
    "准备数据：距离计算所需要的数值，最好是结构化的数据格式\n",
    "分析数据：任何方法\n",
    "训练算法：此步骤不适用于 k-近邻算法\n",
    "测试算法：计算错误率\n",
    "使用算法：输入样本数据和结构化的输出结果，然后运行 k-近邻算法判断输入数据分类属于哪个分类，最后对计算出的分类执行后续处理\n",
    "```\n",
    "\n",
    "> KNN 算法特点\n",
    "\n",
    "```\n",
    "优点：精度高、对异常值不敏感、无数据输入假定\n",
    "缺点：计算复杂度高、空间复杂度高\n",
    "适用数据范围：数值型和标称型\n",
    "```\n"
   ]
  },
  {
   "cell_type": "markdown",
   "metadata": {},
   "source": [
    "## 代码示例"
   ]
  },
  {
   "cell_type": "code",
   "execution_count": 17,
   "metadata": {
    "collapsed": true
   },
   "outputs": [],
   "source": [
    "import os\n",
    "import operator\n",
    "\n",
    "import numpy as np"
   ]
  },
  {
   "cell_type": "code",
   "execution_count": 22,
   "metadata": {
    "collapsed": false
   },
   "outputs": [
    {
     "name": "stdout",
     "output_type": "stream",
     "text": [
      "[[ 1.   1.1]\n",
      " [ 1.   1. ]\n",
      " [ 0.   0. ]\n",
      " [ 0.   0.1]] (4, 2)\n",
      "['A', 'A', 'B', 'B']\n"
     ]
    }
   ],
   "source": [
    "def createDataSet():\n",
    "    \"\"\"\n",
    "    创建数据集和标签\n",
    "\n",
    "     调用方式\n",
    "     import kNN\n",
    "     group, labels = kNN.createDataSet()\n",
    "    \"\"\"\n",
    "    group = np.array([[1.0, 1.1], [1.0, 1.0], [0, 0], [0, 0.1]])\n",
    "    labels = ['A', 'A', 'B', 'B']\n",
    "    return group, labels\n",
    "\n",
    "group, labels = createDataSet()\n",
    "\n",
    "print group, group.shape\n",
    "print labels"
   ]
  },
  {
   "cell_type": "code",
   "execution_count": 23,
   "metadata": {
    "collapsed": true
   },
   "outputs": [],
   "source": [
    "np.tile?"
   ]
  },
  {
   "cell_type": "code",
   "execution_count": 24,
   "metadata": {
    "collapsed": false
   },
   "outputs": [
    {
     "name": "stdout",
     "output_type": "stream",
     "text": [
      "[ 0.1  0.1  0.1  0.1]\n",
      "[[ 0.1  0.1]\n",
      " [ 0.1  0.1]\n",
      " [ 0.1  0.1]\n",
      " [ 0.1  0.1]]\n",
      "[[ 0.01  0.01]\n",
      " [ 0.01  0.01]\n",
      " [ 0.01  0.01]\n",
      " [ 0.01  0.01]]\n",
      "[ 0.02  0.02  0.02  0.02]\n",
      "[ 0.14142136  0.14142136  0.14142136  0.14142136]\n"
     ]
    }
   ],
   "source": [
    "a = np.array([0.1, 0.1])\n",
    "\n",
    "print np.tile(a, 2)\n",
    "print np.tile(a, (4, 1))\n",
    "print np.tile(a, (4, 1)) ** 2\n",
    "print (np.tile(a, (4, 1)) ** 2).sum(axis=1)\n",
    "print (np.tile(a, (4, 1)) ** 2).sum(axis=1) ** 0.5"
   ]
  },
  {
   "cell_type": "code",
   "execution_count": 25,
   "metadata": {
    "collapsed": false
   },
   "outputs": [
    {
     "name": "stdout",
     "output_type": "stream",
     "text": [
      "2 -> -3\n",
      "5 -> -1\n",
      "0 -> 0\n",
      "3 -> 2\n",
      "1 -> 5\n",
      "4 -> 9\n"
     ]
    }
   ],
   "source": [
    "b = np.array([0, 5, -3, 2, 9, -1])\n",
    "for i in b.argsort():\n",
    "    print i, '->', b[i]"
   ]
  },
  {
   "cell_type": "code",
   "execution_count": 28,
   "metadata": {
    "collapsed": true
   },
   "outputs": [],
   "source": [
    "def classify0(inX, dataSet, labels, k):\n",
    "    \"\"\"给一个样本点 inX, 在数据集中 dataSet/labels 中，选择 k 个最近的邻居来确认 inX 的类别\n",
    "    \"\"\"\n",
    "    # 1. 计算待分类点 inX 同数据集中所有点的距离\n",
    "    dataSetSize = dataSet.shape[0]\n",
    "    diffMat = np.tile(inX, (dataSetSize, 1)) - dataSet\n",
    "    sqDiffMat = diffMat ** 2\n",
    "    sqDistances = sqDiffMat.sum(axis=1)\n",
    "    distances = sqDistances ** 0.5\n",
    "    sortedDistIndicies = distances.argsort()\n",
    "\n",
    "    # 2. 选择距离最小的k个点\n",
    "    classCount = {}\n",
    "    for i in range(k):\n",
    "        # 找到该样本的类型\n",
    "        voteIlabel = labels[sortedDistIndicies[i]]\n",
    "        classCount[voteIlabel] = classCount.get(voteIlabel, 0) + 1\n",
    "\n",
    "    # 3. 排序并返回出现最多的那个类型\n",
    "    sortedClassCount = sorted(classCount.items(), key=operator.itemgetter(1), reverse=True)\n",
    "#     print sortedClassCount\n",
    "    \n",
    "    return sortedClassCount[0][0]"
   ]
  },
  {
   "cell_type": "code",
   "execution_count": 31,
   "metadata": {
    "collapsed": false
   },
   "outputs": [
    {
     "name": "stdout",
     "output_type": "stream",
     "text": [
      "[[ 1.   1.1]\n",
      " [ 1.   1. ]\n",
      " [ 0.   0. ]\n",
      " [ 0.   0.1]]\n",
      "['A', 'A', 'B', 'B']\n",
      "B\n"
     ]
    }
   ],
   "source": [
    "def test1():\n",
    "    \"\"\"\n",
    "    第一个例子演示\n",
    "    \"\"\"\n",
    "    group, labels = createDataSet()\n",
    "    print str(group)\n",
    "    print str(labels)\n",
    "    print classify0([0.1, 0.1], group, labels, 3)\n",
    "test1()"
   ]
  },
  {
   "cell_type": "markdown",
   "metadata": {},
   "source": [
    "## 例子：手写识别"
   ]
  },
  {
   "cell_type": "code",
   "execution_count": 36,
   "metadata": {
    "collapsed": false
   },
   "outputs": [
    {
     "name": "stdout",
     "output_type": "stream",
     "text": [
      "9_95.txt\r\n",
      "9_96.txt\r\n",
      "9_97.txt\r\n",
      "9_98.txt\r\n",
      "9_99.txt\r\n"
     ]
    }
   ],
   "source": [
    "!ls ../../../input/2.KNN/trainingDigits/ | tail -5"
   ]
  },
  {
   "cell_type": "code",
   "execution_count": 38,
   "metadata": {
    "collapsed": false
   },
   "outputs": [
    {
     "name": "stdout",
     "output_type": "stream",
     "text": [
      "00000000000000111111000000000000\r",
      "\r\n",
      "00000000000001111111100000000000\r",
      "\r\n",
      "00000000000111111111110000000000\r",
      "\r\n",
      "00000000000111111111111100000000\r",
      "\r\n",
      "00000000000111111111111100000000\r",
      "\r\n",
      "00000000001111111111111110000000\r",
      "\r\n",
      "00000000001111111011111110000000\r",
      "\r\n",
      "00000000001111100001111100000000\r",
      "\r\n",
      "00000000000111110001111111000000\r",
      "\r\n",
      "00000000000111110011111111000000\r",
      "\r\n",
      "00000000000111111111111111000000\r",
      "\r\n",
      "00000000000111111111111111000000\r",
      "\r\n",
      "00000000000011111111111111000000\r",
      "\r\n",
      "00000000000001111111111111000000\r",
      "\r\n",
      "00000000000000011111101111100000\r",
      "\r\n",
      "00000000000000001111001111100000\r",
      "\r\n",
      "00000000000000000000001111100000\r",
      "\r\n",
      "00000001000000000000001111100000\r",
      "\r\n",
      "00000011100000000000001111100000\r",
      "\r\n",
      "00000011111000000000000111110000\r",
      "\r\n",
      "00000001111000000000001111100000\r",
      "\r\n",
      "00000001111000000000001111100000\r",
      "\r\n",
      "00000001111000000000001111100000\r",
      "\r\n",
      "00000001111100000000011111000000\r",
      "\r\n",
      "00000001111110000000011111000000\r",
      "\r\n",
      "00000000011111000000011111100000\r",
      "\r\n",
      "00000000011111100000011111100000\r",
      "\r\n",
      "00000000001111111111111111000000\r",
      "\r\n",
      "00000000000111111111111111000000\r",
      "\r\n",
      "00000000000111111111111110000000\r",
      "\r\n",
      "00000000000001111111111110000000\r",
      "\r\n",
      "00000000000000011111111100000000\r",
      "\r\n"
     ]
    }
   ],
   "source": [
    "!cat ../../../input/2.KNN/trainingDigits/9_99.txt"
   ]
  },
  {
   "cell_type": "code",
   "execution_count": 39,
   "metadata": {
    "collapsed": true
   },
   "outputs": [],
   "source": [
    "def img2vector(filename):\n",
    "    \"\"\"\n",
    "    将图像数据转换为向量\n",
    "    :param filename: 图片文件 因为我们的输入数据的图片格式是 32 * 32的\n",
    "    :return: 一维矩阵\n",
    "    该函数将图像转换为向量：该函数创建 1 * 1024 的NumPy数组，然后打开给定的文件，\n",
    "    循环读出文件的前32行，并将每行的头32个字符值存储在NumPy数组中，最后返回数组。\n",
    "    \"\"\"\n",
    "    returnVect = zeros((1, 1024))\n",
    "    fr = open(filename)\n",
    "    for i in range(32):\n",
    "        lineStr = fr.readline()\n",
    "        for j in range(32):\n",
    "            returnVect[0, 32 * i + j] = int(lineStr[j])\n",
    "    return returnVect"
   ]
  },
  {
   "cell_type": "code",
   "execution_count": 40,
   "metadata": {
    "collapsed": false
   },
   "outputs": [
    {
     "data": {
      "text/plain": [
       "array([[ 0.,  0.,  0., ...,  0.,  0.,  0.]])"
      ]
     },
     "execution_count": 40,
     "metadata": {},
     "output_type": "execute_result"
    }
   ],
   "source": [
    "img2vector('../../../input/2.KNN/trainingDigits/9_99.txt')"
   ]
  },
  {
   "cell_type": "code",
   "execution_count": 31,
   "metadata": {
    "collapsed": false
   },
   "outputs": [
    {
     "data": {
      "text/plain": [
       "array([[ 0.,  0.],\n",
       "       [ 0.,  0.],\n",
       "       [ 0.,  0.],\n",
       "       [ 0.,  0.],\n",
       "       [ 0.,  0.],\n",
       "       [ 0.,  0.],\n",
       "       [ 0.,  0.],\n",
       "       [ 0.,  0.],\n",
       "       [ 0.,  0.],\n",
       "       [ 0.,  0.]])"
      ]
     },
     "execution_count": 31,
     "metadata": {},
     "output_type": "execute_result"
    }
   ],
   "source": [
    "np.zeros((10, 2))"
   ]
  },
  {
   "cell_type": "code",
   "execution_count": 47,
   "metadata": {
    "collapsed": false
   },
   "outputs": [
    {
     "name": "stdout",
     "output_type": "stream",
     "text": [
      "the classifier came back with: 7, the real answer is: 1\n",
      "the classifier came back with: 9, the real answer is: 3\n",
      "the classifier came back with: 9, the real answer is: 3\n",
      "the classifier came back with: 3, the real answer is: 5\n",
      "the classifier came back with: 6, the real answer is: 5\n",
      "the classifier came back with: 6, the real answer is: 8\n",
      "the classifier came back with: 3, the real answer is: 8\n",
      "the classifier came back with: 1, the real answer is: 8\n",
      "the classifier came back with: 1, the real answer is: 8\n",
      "the classifier came back with: 1, the real answer is: 9\n",
      "the classifier came back with: 7, the real answer is: 9\n",
      "\n",
      "the total number of errors is: 11\n",
      "\n",
      "the total error rate is: 0.011628\n"
     ]
    }
   ],
   "source": [
    "def handwritingClassTest(k=3):\n",
    "    # 1. 导入数据\n",
    "    hwLabels = []\n",
    "    trainingFileList = listdir('../../../input/2.KNN/trainingDigits')  # load the training set\n",
    "    m = len(trainingFileList)\n",
    "    trainingMat = np.zeros((m, 1024)) \n",
    "    \n",
    "    # hwLabels存储0～9对应的index位置， trainingMat存放的每个位置对应的图片向量\n",
    "    # trainingMat 为 m * 1024 矩阵，每一行代表一个手写数字的行向量\n",
    "    for i in range(m):\n",
    "        fileNameStr = trainingFileList[i]\n",
    "        fileStr = fileNameStr.split('.')[0]  # take off .txt\n",
    "        classNumStr = int(fileStr.split('_')[0])\n",
    "        hwLabels.append(classNumStr)\n",
    "        trainingMat[i, :] = img2vector('../../../input/2.KNN/trainingDigits/%s' % fileNameStr)\n",
    "\n",
    "    # 2. 导入测试数据\n",
    "    testFileList = listdir('../../../input/2.KNN/testDigits')  # iterate through the test set\n",
    "    errorCount = 0.0\n",
    "    mTest = len(testFileList)\n",
    "    for i in range(mTest):\n",
    "        fileNameStr = testFileList[i]\n",
    "        fileStr = fileNameStr.split('.')[0]  # take off .txt\n",
    "        classNumStr = int(fileStr.split('_')[0])\n",
    "        vectorUnderTest = img2vector('../../../input/2.KNN/testDigits/%s' % fileNameStr)\n",
    "        classifierResult = classify0(vectorUnderTest, trainingMat, hwLabels, k=k)\n",
    "#         print \"the classifier came back with: %d, the real answer is: %d\" % (classifierResult, classNumStr)\n",
    "        if (classifierResult != classNumStr): \n",
    "            errorCount += 1.0\n",
    "            print \"the classifier came back with: %d, the real answer is: %d\" % (classifierResult, classNumStr)\n",
    "    \n",
    "    print \"\\nthe total number of errors is: %d\" % errorCount\n",
    "    print \"\\nthe total error rate is: %f\" % (errorCount / float(mTest))\n",
    "    \n",
    "handwritingClassTest()"
   ]
  },
  {
   "cell_type": "code",
   "execution_count": 53,
   "metadata": {
    "collapsed": false,
    "scrolled": true
   },
   "outputs": [
    {
     "name": "stdout",
     "output_type": "stream",
     "text": [
      "the classifier came back with: 7, the real answer is: 1\n",
      "the classifier came back with: 7, the real answer is: 2\n",
      "the classifier came back with: 9, the real answer is: 2\n",
      "the classifier came back with: 9, the real answer is: 3\n",
      "the classifier came back with: 2, the real answer is: 3\n",
      "the classifier came back with: 2, the real answer is: 3\n",
      "the classifier came back with: 8, the real answer is: 3\n",
      "the classifier came back with: 9, the real answer is: 4\n",
      "the classifier came back with: 0, the real answer is: 4\n",
      "the classifier came back with: 9, the real answer is: 5\n",
      "the classifier came back with: 3, the real answer is: 5\n",
      "the classifier came back with: 6, the real answer is: 5\n",
      "the classifier came back with: 6, the real answer is: 8\n",
      "the classifier came back with: 1, the real answer is: 8\n",
      "the classifier came back with: 1, the real answer is: 8\n",
      "the classifier came back with: 1, the real answer is: 8\n",
      "the classifier came back with: 1, the real answer is: 8\n",
      "the classifier came back with: 1, the real answer is: 8\n",
      "the classifier came back with: 1, the real answer is: 8\n",
      "the classifier came back with: 3, the real answer is: 8\n",
      "the classifier came back with: 1, the real answer is: 9\n",
      "the classifier came back with: 7, the real answer is: 9\n",
      "\n",
      "the total number of errors is: 22\n",
      "\n",
      "the total error rate is: 0.023256\n"
     ]
    }
   ],
   "source": [
    "handwritingClassTest(k=9)"
   ]
  },
  {
   "cell_type": "markdown",
   "metadata": {},
   "source": [
    "## 例子: sklearn demo"
   ]
  },
  {
   "cell_type": "code",
   "execution_count": 6,
   "metadata": {
    "collapsed": true
   },
   "outputs": [],
   "source": [
    "from itertools import product\n",
    "\n",
    "import numpy as np\n",
    "import matplotlib.pyplot as plt\n",
    "\n",
    "from sklearn import datasets\n",
    "from sklearn.tree import DecisionTreeClassifier\n",
    "from sklearn.neighbors import KNeighborsClassifier\n",
    "from sklearn.svm import SVC\n",
    "from sklearn.ensemble import VotingClassifier"
   ]
  },
  {
   "cell_type": "code",
   "execution_count": 7,
   "metadata": {
    "collapsed": false
   },
   "outputs": [
    {
     "name": "stdout",
     "output_type": "stream",
     "text": [
      "<class 'sklearn.utils.Bunch'>\n",
      "<type 'numpy.ndarray'> <type 'numpy.ndarray'> (150, 2) (150,)\n"
     ]
    }
   ],
   "source": [
    "# Loading some example data\n",
    "iris = datasets.load_iris()\n",
    "print type(iris)\n",
    "x = iris.data[:, [0, 2]]\n",
    "y = iris.target\n",
    "\n",
    "print type(x), type(y), x.shape, y.shape"
   ]
  },
  {
   "cell_type": "code",
   "execution_count": 8,
   "metadata": {
    "collapsed": false
   },
   "outputs": [
    {
     "data": {
      "text/plain": [
       "VotingClassifier(estimators=[('dt', DecisionTreeClassifier(class_weight=None, criterion='gini', max_depth=4,\n",
       "            max_features=None, max_leaf_nodes=None,\n",
       "            min_impurity_decrease=0.0, min_impurity_split=None,\n",
       "            min_samples_leaf=1, min_samples_split=2,\n",
       "            min_weight_fraction_leaf=0....',\n",
       "  max_iter=-1, probability=True, random_state=None, shrinking=True,\n",
       "  tol=0.001, verbose=False))],\n",
       "         flatten_transform=None, n_jobs=1, voting='soft',\n",
       "         weights=[2, 1, 2])"
      ]
     },
     "execution_count": 8,
     "metadata": {},
     "output_type": "execute_result"
    }
   ],
   "source": [
    "# Training classifiers\n",
    "clf1 = DecisionTreeClassifier(max_depth=4)\n",
    "clf2 = KNeighborsClassifier(n_neighbors=7)\n",
    "clf3 = SVC(kernel='rbf', probability=True)\n",
    "eclf = VotingClassifier(estimators=[('dt', clf1), ('knn', clf2), ('svc', clf3)], voting='soft', weights=[2, 1, 2])\n",
    "\n",
    "clf1.fit(x, y)\n",
    "clf2.fit(x, y)\n",
    "clf3.fit(x, y)\n",
    "eclf.fit(x, y)"
   ]
  },
  {
   "cell_type": "code",
   "execution_count": 9,
   "metadata": {
    "collapsed": true
   },
   "outputs": [],
   "source": [
    "np.meshgrid?"
   ]
  },
  {
   "cell_type": "code",
   "execution_count": 10,
   "metadata": {
    "collapsed": false
   },
   "outputs": [
    {
     "data": {
      "image/png": "[encoded data removed]",
      "text/plain": [
       "<matplotlib.figure.Figure at 0x1115c8610>"
      ]
     },
     "metadata": {},
     "output_type": "display_data"
    }
   ],
   "source": [
    "### usage of meshgrid\n",
    "_x = np.arange(-5, 5, 0.1)\n",
    "_y = np.arange(-5, 5, 0.1)\n",
    "_xx, _yy = np.meshgrid(_x, _y, sparse=True)\n",
    "_z = np.sin(_xx**2 + _yy**2) / (_xx**2 + _yy**2)\n",
    "h = plt.contourf(_x, _y, _z)"
   ]
  },
  {
   "cell_type": "code",
   "execution_count": 16,
   "metadata": {
    "collapsed": false
   },
   "outputs": [
    {
     "data": {
      "image/png": "[encoded data removed]",
      "text/plain": [
       "<matplotlib.figure.Figure at 0x112301450>"
      ]
     },
     "metadata": {},
     "output_type": "display_data"
    }
   ],
   "source": [
    "# Plotting decision regions\n",
    "x_min, x_max = x[:, 0].min() - 1, x[:, 0].max() + 1\n",
    "y_min, y_max = x[:, 1].min() - 1, x[:, 1].max() + 1\n",
    "xx, yy = np.meshgrid(np.arange(x_min, x_max, 0.1),\n",
    "                     np.arange(y_min, y_max, 0.1))\n",
    "\n",
    "f, axarr = plt.subplots(2, 2, sharex='col', sharey='row', figsize=(10, 8))\n",
    "\n",
    "for idx, clf, tt in zip(product([0, 1], [0, 1]),\n",
    "                        [clf1, clf2, clf3, eclf],\n",
    "                        ['Decision Tree (depth=4)', 'KNN (k=7)', 'Kernel SVM', 'Soft Voting']):\n",
    "#     import pdb; pdb.set_trace()\n",
    "    Z = clf.predict(np.c_[xx.ravel(), yy.ravel()])\n",
    "    Z = Z.reshape(xx.shape)\n",
    "\n",
    "    axarr[idx[0], idx[1]].contourf(xx, yy, Z, alpha=0.4)\n",
    "    axarr[idx[0], idx[1]].scatter(x[:, 0], x[:, 1], c=y, s=20, edgecolor='k')\n",
    "    axarr[idx[0], idx[1]].set_title(tt)\n",
    "\n",
    "plt.show()"
   ]
  },
  {
   "cell_type": "markdown",
   "metadata": {},
   "source": [
    "## 参考资料\n",
    "\n",
    "- [最近邻居法 wiki](https://zh.wikipedia.org/zh-hans/%E6%9C%80%E8%BF%91%E9%84%B0%E5%B1%85%E6%B3%95)\n",
    "- [K NEAREST NEIGHBOR 算法 coolshell](https://coolshell.cn/articles/8052.html)\n",
    "- [A Complete Guide to K-Nearest-Neighbors with Applications in Python and R](https://kevinzakka.github.io/2016/07/13/k-nearest-neighbor/#pros-and-cons-of-knn)\n",
    "- []()"
   ]
  },
  {
   "cell_type": "code",
   "execution_count": null,
   "metadata": {
    "collapsed": true
   },
   "outputs": [],
   "source": []
  }
 ],
 "metadata": {
  "kernelspec": {
   "display_name": "Python 2",
   "language": "python",
   "name": "python2"
  },
  "language_info": {
   "codemirror_mode": {
    "name": "ipython",
    "version": 2
   },
   "file_extension": ".py",
   "mimetype": "text/x-python",
   "name": "python",
   "nbconvert_exporter": "python",
   "pygments_lexer": "ipython2",
   "version": "2.7.10"
  }
 },
 "nbformat": 4,
 "nbformat_minor": 0
}
